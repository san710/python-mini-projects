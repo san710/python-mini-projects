{
  "nbformat": 4,
  "nbformat_minor": 0,
  "metadata": {
    "colab": {
      "provenance": []
    },
    "kernelspec": {
      "name": "python3",
      "display_name": "Python 3"
    },
    "language_info": {
      "name": "python"
    }
  },
  "cells": [
    {
      "cell_type": "markdown",
      "source": [
        "## Password Manager\n"
      ],
      "metadata": {
        "id": "uiOAduR_BGhC"
      }
    },
    {
      "cell_type": "code",
      "source": [
        "#installing the packages\n",
        "!pip install cryptography\n",
        "\n",
        "from cryptography.fernet import Fernet\n",
        "from cryptography.hazmat.primitives.kdf.pbkdf2 import PBKDF2HMAC\n",
        "from cryptography.hazmat.primitives import hashes\n",
        "from cryptography.hazmat.backends import default_backend\n",
        "import base64\n",
        "import os"
      ],
      "metadata": {
        "colab": {
          "base_uri": "https://localhost:8080/"
        },
        "id": "RY1C9b1cBDe4",
        "outputId": "995fbe1a-e49d-46d1-f6b2-bb93481449cb"
      },
      "execution_count": 26,
      "outputs": [
        {
          "output_type": "stream",
          "name": "stdout",
          "text": [
            "Requirement already satisfied: cryptography in /usr/local/lib/python3.10/dist-packages (42.0.8)\n",
            "Requirement already satisfied: cffi>=1.12 in /usr/local/lib/python3.10/dist-packages (from cryptography) (1.16.0)\n",
            "Requirement already satisfied: pycparser in /usr/local/lib/python3.10/dist-packages (from cffi>=1.12->cryptography) (2.22)\n"
          ]
        }
      ]
    },
    {
      "cell_type": "code",
      "execution_count": 27,
      "metadata": {
        "colab": {
          "base_uri": "https://localhost:8080/"
        },
        "id": "d-nUFlCxzxzO",
        "outputId": "a0171f4b-4ab6-43ac-f4b5-15a2ef540c8b"
      },
      "outputs": [
        {
          "output_type": "stream",
          "name": "stdout",
          "text": [
            "What is the master password? san\n",
            "Decryption successful\n",
            "Would you like to add a password, view existing ones, or change the master password? (add/view/change) or press q to quit: add\n",
            "Account Name: san12\n",
            "Password: 12345678\n",
            "Would you like to add a password, view existing ones, or change the master password? (add/view/change) or press q to quit: add\n",
            "Account Name: real12\n",
            "Password: 2345www\n",
            "Would you like to add a password, view existing ones, or change the master password? (add/view/change) or press q to quit: view\n",
            "User: san12 | Password: 12345678\n",
            "User: real12 | Password: 2345www\n",
            "Would you like to add a password, view existing ones, or change the master password? (add/view/change) or press q to quit: q\n",
            "Bye\n"
          ]
        }
      ],
      "source": [
        "# Function to derive a key from the master password\n",
        "def derive_key(master_password, salt):\n",
        "    kdf = PBKDF2HMAC(\n",
        "        algorithm=hashes.SHA256(),\n",
        "        length=32,\n",
        "        salt=salt,\n",
        "        iterations=100000,\n",
        "        backend=default_backend()\n",
        "    )\n",
        "    key = base64.urlsafe_b64encode(kdf.derive(master_password.encode()))\n",
        "    return key\n",
        "\n",
        "# Function to write the key to a file (for completeness, though not used here)\n",
        "def write_key(key):\n",
        "    with open(\"key.key\", \"wb\") as key_file:\n",
        "        key_file.write(key)\n",
        "\n",
        "# Function to load the key from a file (for completeness, though not used here)\n",
        "def load_key():\n",
        "    with open(\"key.key\", \"rb\") as key_file:\n",
        "        return key_file.read()\n",
        "\n",
        "# Function to encrypt the passwords.txt file\n",
        "def encrypt_file(file_name, key):\n",
        "    with open(file_name, 'rb') as file:\n",
        "        data = file.read()\n",
        "    fernet = Fernet(key)\n",
        "    encrypted = fernet.encrypt(data)\n",
        "    with open(file_name, 'wb') as file:\n",
        "        file.write(encrypted)\n",
        "\n",
        "# Function to decrypt the passwords.txt file\n",
        "def decrypt_file(file_name, key):\n",
        "    with open(file_name, 'rb') as file:\n",
        "        data = file.read()\n",
        "    if data:  # Only attempt to decrypt if the file is not empty\n",
        "        fernet = Fernet(key)\n",
        "        try:\n",
        "            decrypted = fernet.decrypt(data)\n",
        "            with open(file_name, 'wb') as file:\n",
        "                file.write(decrypted)\n",
        "        except Exception as e:\n",
        "            print(f\"Decryption failed: {e}\")\n",
        "            return False\n",
        "    return True\n",
        "\n",
        "# Load or generate salt\n",
        "salt_file = 'salt.salt'\n",
        "if os.path.exists(salt_file):\n",
        "    with open(salt_file, 'rb') as f:\n",
        "        salt = f.read()\n",
        "else:\n",
        "    salt = os.urandom(16)\n",
        "    with open(salt_file, 'wb') as f:\n",
        "        f.write(salt)\n",
        "\n",
        "master_pwd = input(\"What is the master password? \")\n",
        "key = derive_key(master_pwd, salt)\n",
        "\n",
        "# Ensure the passwords.txt file exists\n",
        "if not os.path.exists('passwords.txt'):\n",
        "    open('passwords.txt', 'w').close()\n",
        "\n",
        "# Decrypt the passwords.txt file at the start, if possible\n",
        "if decrypt_file('passwords.txt', key):\n",
        "    print(\"Decryption successful\")\n",
        "else:\n",
        "    print(\"Decryption failed\")\n",
        "\n",
        "fer = Fernet(key)\n",
        "\n",
        "# Function to view stored passwords\n",
        "def view():\n",
        "    with open('passwords.txt', 'r') as f:\n",
        "        for line in f.readlines():\n",
        "            data = line.rstrip()\n",
        "            if \"|\" in data:  # Check if the delimiter is present\n",
        "                user, passw = data.split(\"|\")\n",
        "                print(\"User:\", user, \"| Password:\",\n",
        "                      fer.decrypt(passw.encode()).decode())\n",
        "            else:\n",
        "                print(f\"Invalid line format: {data}\") # Inform the user about the invalid line\n",
        "\n",
        "# Function to add a new account and password\n",
        "def add():\n",
        "    name = input('Account Name: ')\n",
        "    pwd = input('Password: ')\n",
        "    encrypted_pwd = fer.encrypt(pwd.encode()).decode()\n",
        "    with open('passwords.txt', 'a') as f:\n",
        "        f.write(name + \"|\" + encrypted_pwd + '\\n')\n",
        "\n",
        "# Function to change the master password\n",
        "def change_master_password():\n",
        "    global key, fer\n",
        "    new_master_pwd = input(\"Enter the new master password: \")\n",
        "    new_key = derive_key(new_master_pwd, salt)\n",
        "    encrypt_file('passwords.txt', new_key)\n",
        "    key = new_key\n",
        "    fer = Fernet(key)\n",
        "    print(\"Master password changed successfully.\")\n",
        "\n",
        "while True:\n",
        "    mode = input(\"Would you like to add a password, view existing ones, or change the master password? (add/view/change) or press q to quit: \").lower()\n",
        "\n",
        "    if mode == \"q\":\n",
        "        # Encrypt the passwords.txt file before quitting\n",
        "        encrypt_file('passwords.txt', key)\n",
        "        print(\"Bye\")\n",
        "        break\n",
        "    elif mode == \"view\":\n",
        "        view()\n",
        "    elif mode == \"add\":\n",
        "        add()\n",
        "    elif mode == \"change\":\n",
        "        change_master_password()\n",
        "    else:\n",
        "        print(\"Invalid mode\")\n",
        "        continue\n",
        "\n",
        "# Encrypt the passwords.txt file before quitting\n",
        "encrypt_file('passwords.txt', key)\n"
      ]
    }
  ]
}