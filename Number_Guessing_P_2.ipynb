{
  "nbformat": 4,
  "nbformat_minor": 0,
  "metadata": {
    "colab": {
      "provenance": []
    },
    "kernelspec": {
      "name": "python3",
      "display_name": "Python 3"
    },
    "language_info": {
      "name": "python"
    }
  },
  "cells": [
    {
      "cell_type": "markdown",
      "source": [
        "## Number Guessing Game"
      ],
      "metadata": {
        "id": "hndkxNFSOgg1"
      }
    },
    {
      "cell_type": "code",
      "source": [
        "import random\n",
        "\n",
        "top_of_range= input(\"Type a number: \")\n",
        "\n",
        "if top_of_range.isdigit():\n",
        "  top_of_range=int(top_of_range)\n",
        "\n",
        "  if top_of_range <= 0:\n",
        "    print(\"please input a digit greater than 0 next time\")\n",
        "    quit()\n",
        "\n",
        "else:\n",
        "  print(\"please input a digit next time\")\n",
        "  quit()\n",
        "\n",
        "random_number= random.randint(0,top_of_range)\n",
        "\n",
        "\n",
        "#using the while loop\n",
        "guesses=0\n",
        "\n",
        "while True:\n",
        "  guesses+=1\n",
        "  user_guess=input(\"Make a guess: \")\n",
        "  if user_guess.isdigit():\n",
        "    user_guess=int(user_guess)\n",
        "  else:\n",
        "    print(\"please input a digit next time\")\n",
        "    continue\n",
        "\n",
        "  if user_guess == random_number:\n",
        "    print(\"You got it right\")\n",
        "    break\n",
        "  elif user_guess > random_number:\n",
        "      print(\"You were above the number\")\n",
        "  else:\n",
        "    print(\"You were below the number\")\n",
        "\n",
        "\n",
        "print(\"You got it in\", guesses, \"guesses\")"
      ],
      "metadata": {
        "colab": {
          "base_uri": "https://localhost:8080/"
        },
        "id": "QYVsuJFfTSjF",
        "outputId": "a820a681-a0f7-48c2-84c5-ecc4da944f5e"
      },
      "execution_count": 6,
      "outputs": [
        {
          "output_type": "stream",
          "name": "stdout",
          "text": [
            "Type a number: 16\n",
            "Make a guess: 10\n",
            "You were above the number\n",
            "Make a guess: 5\n",
            "You were above the number\n",
            "Make a guess: 2\n",
            "You were above the number\n",
            "Make a guess: 1\n",
            "You got it right\n",
            "You got it in 4 guesses\n"
          ]
        }
      ]
    },
    {
      "cell_type": "code",
      "source": [],
      "metadata": {
        "id": "G7mIz895HWr_"
      },
      "execution_count": null,
      "outputs": []
    }
  ]
}