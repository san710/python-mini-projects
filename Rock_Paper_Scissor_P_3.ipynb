{
  "nbformat": 4,
  "nbformat_minor": 0,
  "metadata": {
    "colab": {
      "provenance": []
    },
    "kernelspec": {
      "name": "python3",
      "display_name": "Python 3"
    },
    "language_info": {
      "name": "python"
    }
  },
  "cells": [
    {
      "cell_type": "markdown",
      "source": [
        "## Rock Paper Scissor\n"
      ],
      "metadata": {
        "id": "IaNYx2UqW1KX"
      }
    },
    {
      "cell_type": "code",
      "execution_count": 3,
      "metadata": {
        "colab": {
          "base_uri": "https://localhost:8080/"
        },
        "id": "dQrGZklrWsi9",
        "outputId": "0c0b6698-0fbd-4d3a-de82-ab6d477958e9"
      },
      "outputs": [
        {
          "output_type": "stream",
          "name": "stdout",
          "text": [
            "Type Rock/Paper/Scissors or Q to quit: rock\n",
            "computer picked paper.\n",
            "You lost!\n",
            "Type Rock/Paper/Scissors or Q to quit: scissors\n",
            "computer picked rock.\n",
            "You lost!\n",
            "Type Rock/Paper/Scissors or Q to quit: rock\n",
            "computer picked scissors.\n",
            "You won!\n",
            "Type Rock/Paper/Scissors or Q to quit: paper\n",
            "computer picked rock.\n",
            "You won!\n",
            "Type Rock/Paper/Scissors or Q to quit: scissors\n",
            "computer picked rock.\n",
            "You lost!\n",
            "Type Rock/Paper/Scissors or Q to quit: paper\n",
            "computer picked rock.\n",
            "You won!\n",
            "Type Rock/Paper/Scissors or Q to quit: q\n",
            "You won 3 times.\n",
            "The computer won 3 times.\n",
            "It's a tie!\n",
            "Goodbye!\n"
          ]
        }
      ],
      "source": [
        "import random\n",
        "\n",
        "user_wins=0\n",
        "computer_wins=0\n",
        "\n",
        "options=[\"rock\",\"paper\",\"scissors\"]\n",
        "\n",
        "while True:\n",
        "  user_input= input(\"Type Rock/Paper/Scissors or Q to quit: \").lower()\n",
        "  if user_input == \"q\":\n",
        "    break\n",
        "\n",
        "  if user_input not in options:\n",
        "    continue\n",
        "\n",
        "  random_number= random.randint(0,2)\n",
        "  # 0= ROCK , 1=PAPER , 2= SCISSORS\n",
        "  computer_pick= options[random_number]\n",
        "  print(\"computer picked\", computer_pick + \".\")\n",
        "\n",
        "  if user_input== \"rock\" and computer_pick==\"scissors\":\n",
        "    print(\"You won!\")\n",
        "    user_wins +=1\n",
        "\n",
        "  elif user_input== \"paper\" and computer_pick==\"rock\":\n",
        "    print(\"You won!\")\n",
        "    user_wins +=1\n",
        "\n",
        "  elif user_input== \"scissors\" and computer_pick==\"paper\":\n",
        "    print(\"You won!\")\n",
        "    user_wins +=1\n",
        "\n",
        "  elif user_input== computer_pick:\n",
        "    print(\"It's a tie!\")\n",
        "\n",
        "  else:\n",
        "    print(\"You lost!\")\n",
        "    computer_wins +=1\n",
        "\n",
        "\n",
        "print(\"You won\", user_wins, \"times.\")\n",
        "print(\"The computer won\", computer_wins, \"times.\")\n",
        "\n",
        "if user_wins > computer_wins:\n",
        "  print(\"You won!\")\n",
        "elif user_wins == computer_wins:\n",
        "  print(\"It's a tie!\")\n",
        "else:\n",
        "  print(\"You lost!\")\n",
        "\n",
        "print(\"Goodbye!\")"
      ]
    }
  ]
}