{
  "nbformat": 4,
  "nbformat_minor": 0,
  "metadata": {
    "colab": {
      "provenance": []
    },
    "kernelspec": {
      "name": "python3",
      "display_name": "Python 3"
    },
    "language_info": {
      "name": "python"
    }
  },
  "cells": [
    {
      "cell_type": "markdown",
      "source": [
        "## Quiz Game"
      ],
      "metadata": {
        "id": "ZPB2_x_q1GN7"
      }
    },
    {
      "cell_type": "code",
      "execution_count": 10,
      "metadata": {
        "colab": {
          "base_uri": "https://localhost:8080/"
        },
        "id": "Uv85cbBu0GdO",
        "outputId": "9f630038-4f60-4767-9c15-010f2cc6d2df"
      },
      "outputs": [
        {
          "output_type": "stream",
          "name": "stdout",
          "text": [
            "Welcome to my Quiz Game!\n",
            "Do you want to play? yes\n",
            "Okay Let's play:)\n",
            "What does CPU stand for?central processing unit\n",
            "Correct!\n",
            "What does GPU stand for?graphics processing unit\n",
            "Correct!\n",
            "What does RAM stand for?random access memory\n",
            "Correct!\n",
            "What does PSU stand for? power\n",
            "incorrect!\n",
            "You got 3 questions correct!\n",
            "You got a good score!\n",
            "You got 68.75%\n"
          ]
        }
      ],
      "source": [
        "print(\"Welcome to my Quiz Game!\")\n",
        "\n",
        "playing = input(\"Do you want to play? \")\n",
        "\n",
        "if playing.lower() != \"yes\":\n",
        "    quit()\n",
        "\n",
        "print(\"Okay Let's play:)\")\n",
        "\n",
        "answer= input(\"What does CPU stand for?\")\n",
        "if answer.lower() == \"central processing unit\":\n",
        "  print(\"Correct!\")\n",
        "  count=1\n",
        "  score=1\n",
        "else:\n",
        "  print(\"Incorrect\")\n",
        "  count=0\n",
        "  score=-0.25\n",
        "\n",
        "answer= input(\"What does GPU stand for?\")\n",
        "if answer.lower() == \"graphics processing unit\":\n",
        "  print(\"Correct!\")\n",
        "  score=score + 1\n",
        "  count+=1\n",
        "else:\n",
        "  print(\"Incorrect\")\n",
        "  score -= 0.25\n",
        "  count=count\n",
        "\n",
        "answer= input(\"What does RAM stand for?\")\n",
        "if answer.lower() == \"random access memory\":\n",
        "  print(\"Correct!\")\n",
        "  score += 1\n",
        "  count+=1\n",
        "else:\n",
        "  print(\"Incorrect\")\n",
        "  score -= 0.25\n",
        "  count=count\n",
        "\n",
        "answer = input(\"What does PSU stand for? \")\n",
        "if answer.lower ==\"power supply\":\n",
        "    print('correct!')\n",
        "    score += 1\n",
        "    count+=1\n",
        "else:\n",
        "    print('incorrect!')\n",
        "    score -= 0.25\n",
        "    count=count\n",
        "\n",
        "print(\"You got \" + str(count) + \" questions correct!\")\n",
        "if score==4:\n",
        "    print(\"You got the perfect score!\")\n",
        "elif score >=0 and score<4:\n",
        "    print(\"You got a good score!\")\n",
        "else:\n",
        "    print(\"You got a bad score!\")\n",
        "\n",
        "print(\"You got \" + str((score/4)*100) + \"%\")"
      ]
    }
  ]
}