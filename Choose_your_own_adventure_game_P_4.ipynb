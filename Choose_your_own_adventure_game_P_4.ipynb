{
  "nbformat": 4,
  "nbformat_minor": 0,
  "metadata": {
    "colab": {
      "provenance": []
    },
    "kernelspec": {
      "name": "python3",
      "display_name": "Python 3"
    },
    "language_info": {
      "name": "python"
    }
  },
  "cells": [
    {
      "cell_type": "markdown",
      "source": [
        "## Choose Your Own Adventure Game"
      ],
      "metadata": {
        "id": "KNysC_cYn08Q"
      }
    },
    {
      "cell_type": "code",
      "execution_count": 4,
      "metadata": {
        "colab": {
          "base_uri": "https://localhost:8080/"
        },
        "id": "X-vF9dXinqku",
        "outputId": "70d6b4da-7999-46a8-d47f-0c24c9fe07e3"
      },
      "outputs": [
        {
          "output_type": "stream",
          "name": "stdout",
          "text": [
            "Input your name: san\n",
            "Hello, sanWelcome to this adventure game!\n",
            "You are on a dirt road,\n",
            "it has come to an end and you can go left or right.\n",
            "Which way would you like to go? right\n",
            "You come to a bridge, it looks wobbly, do you want to cross it or head back (cross/back)? cross\n",
            "You cross the bridge and meet a stranger. Do you talk to them (yes/no)? no\n",
            "You ignore the stranger and they are offended and you lose.\n",
            "Thank san for playing. Goodbye!\n"
          ]
        }
      ],
      "source": [
        "name= input(\"Input your name: \")\n",
        "print(\"Hello, \" + name + \"Welcome to this adventure game!\")\n",
        "\n",
        "\n",
        "answer = input(\n",
        "    \"You are on a dirt road,\\nit has come to an end and you can go left or right.\\nWhich way would you like to go? \").lower()\n",
        "\n",
        "#you choose left\n",
        "if answer == \"left\":\n",
        "  answer = input(\n",
        "        \"You come to a river, you can walk around it or swim accross?\\nType walk to walk around and swim to swim accross: \")\n",
        "  if answer == \"swim\":\n",
        "    print(\"You swam acrross and were eaten by an alligator.\")\n",
        "\n",
        "  elif answer == \"walk\":\n",
        "    print(\"You walked for many miles, ran out of water and you lost the game.\")\n",
        "\n",
        "  else:\n",
        "    print('Not a valid option. You lose.')\n",
        "\n",
        "# you choose right\n",
        "elif answer == \"right\":\n",
        "  answer = input(\n",
        "        \"You come to a bridge, it looks wobbly, do you want to cross it or head back (cross/back)? \")\n",
        "  if answer == \"back\":\n",
        "    print(\"You go back and lose.\")\n",
        "\n",
        "  elif answer == \"cross\":\n",
        "    answer = input(\"You cross the bridge and meet a stranger. Do you talk to them (yes/no)? \")\n",
        "    if answer == \"yes\":\n",
        "      print(\"You talk to the stranger and they give you gold. You WIIIIIIIIN!\")\n",
        "\n",
        "    elif answer == \"no\":\n",
        "      print(\"You ignore the stranger and they are offended and you lose.\")\n",
        "\n",
        "    else:\n",
        "      print('Not a valid option. You lose.')\n",
        "\n",
        "  else:\n",
        "    print('Not a valid option. You lose.')\n",
        "\n",
        "\n",
        "else:\n",
        "  print(\"Invalid input. You lose!\")\n",
        "\n",
        "\n",
        "print(\"Thank\", name , \"for playing. Goodbye!\")\n",
        "\n"
      ]
    }
  ]
}